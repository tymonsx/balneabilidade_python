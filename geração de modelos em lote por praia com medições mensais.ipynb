{
 "cells": [
  {
   "cell_type": "code",
   "execution_count": 1,
   "id": "6c176d2d",
   "metadata": {},
   "outputs": [
    {
     "name": "stdout",
     "output_type": "stream",
     "text": [
      "2.3.0\n",
      "1.18.5\n"
     ]
    }
   ],
   "source": [
    "from numpy import array\n",
    "from tensorflow.keras.models import Sequential\n",
    "from tensorflow.keras.layers import LSTM\n",
    "from tensorflow.keras.layers import Dense\n",
    "import numpy as np\n",
    "import pandas as pd\n",
    "import tensorflow as tf\n",
    "print(tf.__version__)\n",
    "print(np.__version__)"
   ]
  },
  {
   "cell_type": "code",
   "execution_count": 2,
   "id": "79a4014b",
   "metadata": {},
   "outputs": [],
   "source": [
    "# divide uma série temporal univariada em amostras\n",
    "def split_sequence(sequence, n_steps):\n",
    "    X, y = list(), list()\n",
    "    for i in range(len(sequence)):\n",
    "        # encontra o final da amostra\n",
    "        end_ix = i + n_steps\n",
    "        # verifica se passou do final\n",
    "        if end_ix > len(sequence)-1:\n",
    "            break\n",
    "        # junta as partes de entrada e saída do padrão\n",
    "        seq_x, seq_y = sequence[i:end_ix], sequence[end_ix]\n",
    "        X.append(seq_x)\n",
    "        y.append(seq_y)\n",
    "    return array(X), array(y)"
   ]
  },
  {
   "cell_type": "code",
   "execution_count": 3,
   "id": "d87986fa",
   "metadata": {},
   "outputs": [
    {
     "name": "stdout",
     "output_type": "stream",
     "text": [
      "<class 'pandas.core.frame.DataFrame'>\n",
      "Int64Index: 71443 entries, 0 to 70616\n",
      "Data columns (total 4 columns):\n",
      " #   Column        Non-Null Count  Dtype         \n",
      "---  ------        --------------  -----         \n",
      " 0   City          71443 non-null  object        \n",
      " 1   Beach         71443 non-null  object        \n",
      " 2   Date          71443 non-null  datetime64[ns]\n",
      " 3   Enterococcus  71443 non-null  int64         \n",
      "dtypes: datetime64[ns](1), int64(1), object(2)\n",
      "memory usage: 2.7+ MB\n"
     ]
    }
   ],
   "source": [
    "df = pd.read_csv('sp_beaches_update.csv', parse_dates=['Date'])\n",
    "df = df.sort_values(by=['Date'])\n",
    "df=df.loc[~df['Enterococcus'].isnull()]\n",
    "#remover a praia do Leste, da cidade de iguape, pois esta praia sumiu por erosão em 2012\n",
    "#remover a praia MASSAGUAÇU (AV. M. H. CARVALHO), da cidade de CARAGUATATUBA, não possui mais medições em 2021\n",
    "#remover a praia RIO PEREQUÊ, da cidade de CUBATÃO, até dez de 2020 possuía medições semanais, depois de janeiro de 2021 as medições passaram a ser mensais\n",
    "#remover as praias da cidade ILHA ANCHIETA pois não exitem mais medições em 2021\n",
    "df = df.loc[df['Beach']!='DO LESTE'].loc[df['Beach']!='MASSAGUAÇU (AV. M. H. CARVALHO)'].loc[df['Beach']!='RIO PEREQUÊ'].loc[df['City']!='ILHA ANCHIETA']\n",
    "df.info()"
   ]
  },
  {
   "cell_type": "code",
   "execution_count": 5,
   "id": "eb3b2840",
   "metadata": {},
   "outputs": [
    {
     "data": {
      "text/html": [
       "<div>\n",
       "<style scoped>\n",
       "    .dataframe tbody tr th:only-of-type {\n",
       "        vertical-align: middle;\n",
       "    }\n",
       "\n",
       "    .dataframe tbody tr th {\n",
       "        vertical-align: top;\n",
       "    }\n",
       "\n",
       "    .dataframe thead th {\n",
       "        text-align: right;\n",
       "    }\n",
       "</style>\n",
       "<table border=\"1\" class=\"dataframe\">\n",
       "  <thead>\n",
       "    <tr style=\"text-align: right;\">\n",
       "      <th></th>\n",
       "      <th>City</th>\n",
       "      <th>Beach</th>\n",
       "      <th>Frequency</th>\n",
       "    </tr>\n",
       "  </thead>\n",
       "  <tbody>\n",
       "    <tr>\n",
       "      <th>0</th>\n",
       "      <td>CARAGUATATUBA</td>\n",
       "      <td>LAGOA AZUL</td>\n",
       "      <td>MENSAL</td>\n",
       "    </tr>\n",
       "    <tr>\n",
       "      <th>2</th>\n",
       "      <td>GUARUJÁ</td>\n",
       "      <td>IPORANGA</td>\n",
       "      <td>MENSAL</td>\n",
       "    </tr>\n",
       "    <tr>\n",
       "      <th>3</th>\n",
       "      <td>IGUAPE</td>\n",
       "      <td>JURÉIA</td>\n",
       "      <td>MENSAL</td>\n",
       "    </tr>\n",
       "    <tr>\n",
       "      <th>4</th>\n",
       "      <td>ILHA COMPRIDA</td>\n",
       "      <td>BALNEÁRIO ADRIANA</td>\n",
       "      <td>MENSAL</td>\n",
       "    </tr>\n",
       "    <tr>\n",
       "      <th>5</th>\n",
       "      <td>ILHA COMPRIDA</td>\n",
       "      <td>CENTRO</td>\n",
       "      <td>MENSAL</td>\n",
       "    </tr>\n",
       "    <tr>\n",
       "      <th>6</th>\n",
       "      <td>ILHA COMPRIDA</td>\n",
       "      <td>PONTAL</td>\n",
       "      <td>MENSAL</td>\n",
       "    </tr>\n",
       "    <tr>\n",
       "      <th>7</th>\n",
       "      <td>ILHA COMPRIDA</td>\n",
       "      <td>PRAINHA (BALSA)</td>\n",
       "      <td>MENSAL</td>\n",
       "    </tr>\n",
       "    <tr>\n",
       "      <th>8</th>\n",
       "      <td>UBATUBA</td>\n",
       "      <td>LAGOA PRUMIRIM</td>\n",
       "      <td>MENSAL</td>\n",
       "    </tr>\n",
       "    <tr>\n",
       "      <th>9</th>\n",
       "      <td>UBATUBA</td>\n",
       "      <td>PRUMIRIM</td>\n",
       "      <td>MENSAL</td>\n",
       "    </tr>\n",
       "    <tr>\n",
       "      <th>10</th>\n",
       "      <td>UBATUBA</td>\n",
       "      <td>PULSO</td>\n",
       "      <td>MENSAL</td>\n",
       "    </tr>\n",
       "  </tbody>\n",
       "</table>\n",
       "</div>"
      ],
      "text/plain": [
       "             City              Beach Frequency\n",
       "0   CARAGUATATUBA         LAGOA AZUL    MENSAL\n",
       "2         GUARUJÁ           IPORANGA    MENSAL\n",
       "3          IGUAPE             JURÉIA    MENSAL\n",
       "4   ILHA COMPRIDA  BALNEÁRIO ADRIANA    MENSAL\n",
       "5   ILHA COMPRIDA             CENTRO    MENSAL\n",
       "6   ILHA COMPRIDA             PONTAL    MENSAL\n",
       "7   ILHA COMPRIDA    PRAINHA (BALSA)    MENSAL\n",
       "8         UBATUBA     LAGOA PRUMIRIM    MENSAL\n",
       "9         UBATUBA           PRUMIRIM    MENSAL\n",
       "10        UBATUBA              PULSO    MENSAL"
      ]
     },
     "execution_count": 5,
     "metadata": {},
     "output_type": "execute_result"
    }
   ],
   "source": [
    "# selecionar praias com medições semanal\n",
    "df_freq = pd.read_csv('frequencia_praias.csv')\n",
    "df_freq = df_freq.loc[df_freq['Beach']!='DO LESTE'].loc[df_freq['Beach']!='MASSAGUAÇU (AV. M. H. CARVALHO)'].loc[df_freq['Beach']!='RIO PEREQUÊ'].loc[df_freq['City']!='ILHA ANCHIETA']\n",
    "df_freq = df_freq.loc[df_freq['Frequency']=='MENSAL']\n",
    "df_freq"
   ]
  },
  {
   "cell_type": "code",
   "execution_count": null,
   "id": "87b76f9a",
   "metadata": {},
   "outputs": [
    {
     "name": "stdout",
     "output_type": "stream",
     "text": [
      "iniciando: CARAGUATATUBA - LAGOA AZUL\n",
      "Treinando modelo: CARAGUATATUBA-LAGOA AZUL\n",
      "Modelo Treinado: CARAGUATATUBA-LAGOA AZUL- MSE:3250\n",
      "iniciando: GUARUJÁ - IPORANGA\n",
      "Treinando modelo: GUARUJÁ-IPORANGA\n"
     ]
    }
   ],
   "source": [
    "n_steps = 4 #4 medições representa 4 meses que serão utilizados para prever a próxima medição\n",
    "#Para cada cidade \n",
    "for cidade in df_freq.City.unique():\n",
    "    # Para cada praia desta cidade\n",
    "    for praia in df_freq.loc[df_freq['City']==cidade].Beach.unique():\n",
    "        #Imprime que iniicou o processo de carregamento de dados de uma determinada praia\n",
    "        print(f'iniciando: {cidade} - {praia}')\n",
    "        #Coleta os dados desta praia\n",
    "        df_beach = df.loc[df['City']==cidade].loc[df['Beach']==praia][['Date','Enterococcus']]\n",
    "        #formata os dados desta praia para enviar ao modelo\n",
    "        df_beach.columns = ['ds', 'y']\n",
    "        df_beach.set_index('ds', inplace=True)\n",
    "        #divide os dados da praia em lotes de X com n_steps medições para y com 1 medição de rótulo\n",
    "        X, y = split_sequence(df_beach.values, n_steps)\n",
    "        #formata de acordo com a entrada do modelo\n",
    "        n_features = 1\n",
    "        X = X.reshape((X.shape[0], X.shape[1], n_features))\n",
    "        #prepara as camadas do modelo\n",
    "        model = Sequential()\n",
    "        model.add(LSTM(104, activation='relu', return_sequences=True, input_shape=(n_steps, n_features)))\n",
    "        model.add(LSTM(104, activation='relu'))\n",
    "        model.add(Dense(1))\n",
    "        model.compile(optimizer='adam', loss='mse')\n",
    "        #imprime que o modelo irá começar a ser treinado para esta praia\n",
    "        print('Treinando modelo: '+cidade+'-'+praia)\n",
    "        #começa o treino do modelo na GPU\n",
    "        with tf.device('/GPU:0'): \n",
    "            R = model.fit(X, y, epochs=200, verbose=0)\n",
    "        #depois de treinado pega o erro do MSE\n",
    "        loss=round(R.history['loss'][-1])\n",
    "        #salva o modelo com o nome de modelcidade-praia.h5\n",
    "        model.save('model'+cidade+'-'+praia+'.h5')\n",
    "        #imprime que o modelo foi treinado e o valor do erro MSE\n",
    "        print('Modelo Treinado: '+cidade+'-'+praia+'- MSE:'+str(loss))"
   ]
  },
  {
   "cell_type": "code",
   "execution_count": null,
   "id": "0599cca0",
   "metadata": {},
   "outputs": [],
   "source": []
  }
 ],
 "metadata": {
  "kernelspec": {
   "display_name": "Python 3",
   "language": "python",
   "name": "python3"
  },
  "language_info": {
   "codemirror_mode": {
    "name": "ipython",
    "version": 3
   },
   "file_extension": ".py",
   "mimetype": "text/x-python",
   "name": "python",
   "nbconvert_exporter": "python",
   "pygments_lexer": "ipython3",
   "version": "3.8.0"
  }
 },
 "nbformat": 4,
 "nbformat_minor": 5
}
